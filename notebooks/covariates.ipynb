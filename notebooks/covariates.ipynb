{
 "cells": [
  {
   "cell_type": "markdown",
   "metadata": {},
   "source": [
    "# Preliminaries"
   ]
  },
  {
   "cell_type": "code",
   "execution_count": null,
   "metadata": {},
   "outputs": [],
   "source": [
    "import subprocess"
   ]
  },
  {
   "cell_type": "code",
   "execution_count": null,
   "metadata": {},
   "outputs": [],
   "source": [
    "if 'google.colab' in str(get_ipython()):\n",
    "    subprocess.run('wget -q https://raw.githubusercontent.com/plausibilities/sars/develop/scripts.sh', shell=True)\n",
    "    subprocess.run('chmod u+x scripts.sh', shell=True)\n",
    "    subprocess.run('./scripts.sh', shell=True)"
   ]
  },
  {
   "cell_type": "markdown",
   "metadata": {},
   "source": [
    "<br>\n",
    "\n",
    "## Paths"
   ]
  },
  {
   "cell_type": "code",
   "execution_count": 3,
   "metadata": {},
   "outputs": [],
   "source": [
    "import os\n",
    "import pathlib\n",
    "import sys"
   ]
  },
  {
   "cell_type": "code",
   "execution_count": 4,
   "metadata": {},
   "outputs": [],
   "source": [
    "if not 'google.colab' in str(get_ipython()):\n",
    "    \n",
    "    notebooks = os.path.split(os.getcwd())[0]\n",
    "    parent = str(pathlib.Path(notebooks))\n",
    "    sys.path.append(parent)\n"
   ]
  },
  {
   "cell_type": "markdown",
   "metadata": {},
   "source": [
    "<br>\n",
    "\n",
    "## Libraries"
   ]
  },
  {
   "cell_type": "code",
   "execution_count": 5,
   "metadata": {},
   "outputs": [],
   "source": [
    "%matplotlib inline"
   ]
  },
  {
   "cell_type": "code",
   "execution_count": 6,
   "metadata": {},
   "outputs": [],
   "source": [
    "import arviz as az\n",
    "import graphviz\n",
    "import dotmap\n",
    "import pymc3 as pm\n",
    "\n",
    "import logging\n",
    "\n",
    "import numpy as np\n",
    "import pandas as pd\n",
    "import scipy as sp\n",
    "\n",
    "import matplotlib\n",
    "import matplotlib.pyplot as plt\n",
    "import seaborn as sns\n",
    "\n",
    "import theano\n",
    "import collections"
   ]
  },
  {
   "cell_type": "markdown",
   "metadata": {},
   "source": [
    "<br>\n",
    "\n",
    "**Custom**"
   ]
  },
  {
   "cell_type": "code",
   "execution_count": 7,
   "metadata": {},
   "outputs": [],
   "source": [
    "import sars.graphics.settings\n",
    "import sars.graphics.relational"
   ]
  },
  {
   "cell_type": "code",
   "execution_count": 8,
   "metadata": {},
   "outputs": [],
   "source": [
    "import sars.capita.feed.data\n",
    "import sars.capita.feed.segmentation"
   ]
  },
  {
   "cell_type": "markdown",
   "metadata": {},
   "source": [
    "<br>\n",
    "\n",
    "## Set-up"
   ]
  },
  {
   "cell_type": "markdown",
   "metadata": {},
   "source": [
    "**Display**<br>\n",
    "If the display screen supports **retina display**, a figure's resolution can be enhanced via\n"
   ]
  },
  {
   "cell_type": "code",
   "execution_count": 9,
   "metadata": {},
   "outputs": [],
   "source": [
    "%config InlineBackend.figure_format = 'retina'"
   ]
  },
  {
   "cell_type": "markdown",
   "metadata": {},
   "source": [
    "<br>\n",
    "\n",
    "**Jupyter Settings**"
   ]
  },
  {
   "cell_type": "code",
   "execution_count": 10,
   "metadata": {},
   "outputs": [],
   "source": [
    "settings = sars.graphics.settings.Settings()\n",
    "\n",
    "settings.layout()\n",
    "settings.aesthetics()"
   ]
  },
  {
   "cell_type": "markdown",
   "metadata": {},
   "source": [
    "<br>\n",
    "\n",
    "**Relational Graph Labels**"
   ]
  },
  {
   "cell_type": "code",
   "execution_count": 11,
   "metadata": {},
   "outputs": [],
   "source": [
    "RelationalGraphLabels = collections.namedtuple(typename='RelationalGraphLabels',\n",
    "                                               field_names=['title', 'xlabel', 'ylabel'])"
   ]
  },
  {
   "cell_type": "markdown",
   "metadata": {},
   "source": [
    "<br>\n",
    "\n",
    "## Logging"
   ]
  },
  {
   "cell_type": "code",
   "execution_count": 12,
   "metadata": {},
   "outputs": [],
   "source": [
    "logging.basicConfig(level=logging.INFO)\n",
    "logger = logging.getLogger(__name__)"
   ]
  },
  {
   "cell_type": "markdown",
   "metadata": {},
   "source": [
    "<br>\n",
    "<br>\n",
    "\n",
    "# Data"
   ]
  },
  {
   "cell_type": "markdown",
   "metadata": {},
   "source": [
    "## Read"
   ]
  },
  {
   "cell_type": "code",
   "execution_count": 13,
   "metadata": {},
   "outputs": [
    {
     "name": "stderr",
     "output_type": "stream",
     "text": [
      "INFO:__main__:\n",
      "  datetimeobject STUSPS  deathRate  positiveRate  testRate  icuRate  \\\n",
      "0     2020-01-22     AK        0.0           0.0       0.0      0.0   \n",
      "1     2020-01-23     AK        0.0           0.0       0.0      0.0   \n",
      "2     2020-01-24     AK        0.0           0.0       0.0      0.0   \n",
      "3     2020-01-25     AK        0.0           0.0       0.0      0.0   \n",
      "4     2020-01-26     AK        0.0           0.0       0.0      0.0   \n",
      "\n",
      "   hospitalizedRate  ndays  \n",
      "0               0.0      0  \n",
      "1               0.0      1  \n",
      "2               0.0      2  \n",
      "3               0.0      3  \n",
      "4               0.0      4  \n",
      "\n"
     ]
    }
   ],
   "source": [
    "data = sars.capita.feed.data.Data().read()\n",
    "logger.info('\\n{}\\n'.format(data.head()))"
   ]
  },
  {
   "cell_type": "markdown",
   "metadata": {},
   "source": [
    "<br>\n",
    "\n",
    "**In Focus**"
   ]
  },
  {
   "cell_type": "code",
   "execution_count": 14,
   "metadata": {},
   "outputs": [],
   "source": [
    "stusps = 'ND'"
   ]
  },
  {
   "cell_type": "markdown",
   "metadata": {},
   "source": [
    "<br>\n",
    "\n",
    "**Hence**"
   ]
  },
  {
   "cell_type": "code",
   "execution_count": 15,
   "metadata": {},
   "outputs": [
    {
     "name": "stderr",
     "output_type": "stream",
     "text": [
      "INFO:__main__:The shape & type of features\n",
      "(256, 1), <class 'numpy.ndarray'>\n",
      "\n",
      "INFO:__main__:The shape & type of observations\n",
      "(256, 3), <class 'numpy.ndarray'>\n",
      "\n",
      "INFO:__main__:The frame\n",
      "(256, 4), <class 'pandas.core.frame.DataFrame'>\n",
      "\n"
     ]
    }
   ],
   "source": [
    "segmentation = sars.capita.feed.segmentation.Segmentation(data=data)\n",
    "\n",
    "features, observations, frame = segmentation.exc(\n",
    "    stusps=stusps, independent=['ndays'], dependent=['positiveRate', 'hospitalizedRate', 'deathRate'])\n",
    "\n",
    "logger.info('The shape & type of features\\n{}, {}\\n'.format(features.shape, type(features)))\n",
    "logger.info('The shape & type of observations\\n{}, {}\\n'.format(observations.shape, type(observations)))\n",
    "logger.info('The frame\\n{}, {}\\n'.format(frame.shape, type(frame)))"
   ]
  },
  {
   "cell_type": "markdown",
   "metadata": {},
   "source": [
    "<br>\n",
    "\n",
    "An illustration of the independent & dependent variables"
   ]
  },
  {
   "cell_type": "code",
   "execution_count": 16,
   "metadata": {},
   "outputs": [],
   "source": [
    "import sars.capita.models.covariates.graphs"
   ]
  },
  {
   "cell_type": "code",
   "execution_count": 17,
   "metadata": {},
   "outputs": [],
   "source": [
    "graphs = sars.capita.models.covariates.graphs.Graphs()"
   ]
  },
  {
   "cell_type": "code",
   "execution_count": 18,
   "metadata": {},
   "outputs": [
    {
     "data": {
      "image/png": "[encoded data removed]",
      "text/plain": [
       "<Figure size 470x290 with 1 Axes>"
      ]
     },
     "metadata": {
      "image/png": {
       "height": 301,
       "width": 481
      }
     },
     "output_type": "display_data"
    }
   ],
   "source": [
    "ax = graphs.baseline(\n",
    "    data=frame, labels=RelationalGraphLabels._make(['\\ndata\\n', '\\ndays thus far', 'ln(observations\\n/100K)\\n'])\n",
    ")\n",
    "ax.legend(loc='upper left', fontsize='small');"
   ]
  },
  {
   "cell_type": "markdown",
   "metadata": {},
   "source": [
    "<br>\n",
    "<br>\n",
    "\n",
    "# Inference"
   ]
  },
  {
   "cell_type": "markdown",
   "metadata": {},
   "source": [
    "## Structures"
   ]
  },
  {
   "cell_type": "markdown",
   "metadata": {},
   "source": [
    "Preparing dat structures for the inference model\n",
    "\n",
    "* Normalize $\\rightarrow$ Create Theano/Shared form of normalized structure\n"
   ]
  },
  {
   "cell_type": "code",
   "execution_count": 19,
   "metadata": {},
   "outputs": [],
   "source": [
    "import sars.capita.models.covariates.structures"
   ]
  },
  {
   "cell_type": "code",
   "execution_count": 20,
   "metadata": {},
   "outputs": [],
   "source": [
    "structures = sars.capita.models.covariates.structures.Structures(dependents=observations.shape[1])"
   ]
  },
  {
   "cell_type": "markdown",
   "metadata": {},
   "source": [
    "<br>\n",
    "\n",
    "**Scaling Objects & Structures** of the:"
   ]
  },
  {
   "cell_type": "markdown",
   "metadata": {},
   "source": [
    "* Independent Variable/s"
   ]
  },
  {
   "cell_type": "code",
   "execution_count": 21,
   "metadata": {},
   "outputs": [
    {
     "name": "stderr",
     "output_type": "stream",
     "text": [
      "INFO:__main__:\n",
      "The shape & type of the scaled features: (256, 1), <class 'numpy.ndarray'>.\n",
      "The type of the shared/Theano form of the scaled features: <class 'theano.tensor.sharedvar.TensorSharedVariable'> \n",
      "\n"
     ]
    }
   ],
   "source": [
    "XSCALER, XSC, XTH = structures.exc(tensor=features, predictor=True)\n",
    "\n",
    "logger.info('\\nThe shape & type of the scaled features: {}, {}.\\nThe type of the shared/Theano form of the scaled features: {} \\n'.\n",
    "       format(XSC.shape, type(XSC), type(XTH)))\n"
   ]
  },
  {
   "cell_type": "markdown",
   "metadata": {},
   "source": [
    "<br>\n",
    "\n",
    "* Dependent Variable/s"
   ]
  },
  {
   "cell_type": "code",
   "execution_count": 22,
   "metadata": {},
   "outputs": [
    {
     "name": "stderr",
     "output_type": "stream",
     "text": [
      "INFO:__main__:\n",
      "The shape & type of the scaled observations: (256, 3), <class 'numpy.ndarray'>.\n",
      "The type of the shared/Theano form of the scaled observations: <class 'theano.tensor.sharedvar.TensorSharedVariable'> \n",
      "\n"
     ]
    }
   ],
   "source": [
    "YSCALER, YSC, YTH = structures.exc(tensor=observations, predictor=False)\n",
    "\n",
    "logger.info('\\nThe shape & type of the scaled observations: {}, {}.\\nThe type of the shared/Theano form of the scaled observations: {} \\n'.\n",
    "       format(YSC.shape, type(YSC), type(YTH)))\n"
   ]
  },
  {
   "cell_type": "markdown",
   "metadata": {},
   "source": [
    "<br>\n",
    "\n",
    "## Futures"
   ]
  },
  {
   "cell_type": "code",
   "execution_count": 23,
   "metadata": {},
   "outputs": [
    {
     "name": "stderr",
     "output_type": "stream",
     "text": [
      "INFO:__main__:The shape of futures\n",
      "(281, 1)\n",
      "\n"
     ]
    }
   ],
   "source": [
    "futures = segmentation.futures(features=features, steps=np.array([1]), ahead=25)\n",
    "\n",
    "logger.info('The shape of futures\\n{}\\n'.format(futures.shape))"
   ]
  }
 ],
 "metadata": {
  "kernelspec": {
   "display_name": "Python 3",
   "language": "python",
   "name": "python3"
  },
  "language_info": {
   "codemirror_mode": {
    "name": "ipython",
    "version": 3
   },
   "file_extension": ".py",
   "mimetype": "text/x-python",
   "name": "python",
   "nbconvert_exporter": "python",
   "pygments_lexer": "ipython3",
   "version": "3.7.1"
  },
  "toc-autonumbering": false,
  "toc-showtags": false
 },
 "nbformat": 4,
 "nbformat_minor": 4
}
