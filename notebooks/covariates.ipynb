{
 "cells": [
  {
   "cell_type": "markdown",
   "metadata": {},
   "source": [
    "# Preliminaries"
   ]
  },
  {
   "cell_type": "code",
   "execution_count": 1,
   "metadata": {},
   "outputs": [],
   "source": [
    "import subprocess"
   ]
  },
  {
   "cell_type": "code",
   "execution_count": 2,
   "metadata": {},
   "outputs": [],
   "source": [
    "if 'google.colab' in str(get_ipython()):\n",
    "    subprocess.run('wget -q https://raw.githubusercontent.com/plausibilities/sars/develop/scripts.sh', shell=True)\n",
    "    subprocess.run('chmod u+x scripts.sh', shell=True)\n",
    "    subprocess.run('./scripts.sh', shell=True)"
   ]
  },
  {
   "cell_type": "markdown",
   "metadata": {},
   "source": [
    "<br>\n",
    "\n",
    "## Paths"
   ]
  },
  {
   "cell_type": "code",
   "execution_count": 3,
   "metadata": {},
   "outputs": [],
   "source": [
    "import os\n",
    "import pathlib\n",
    "import sys"
   ]
  },
  {
   "cell_type": "code",
   "execution_count": 4,
   "metadata": {},
   "outputs": [],
   "source": [
    "if not 'google.colab' in str(get_ipython()):\n",
    "    \n",
    "    notebooks = os.path.split(os.getcwd())[0]\n",
    "    parent = str(pathlib.Path(notebooks))\n",
    "    sys.path.append(parent)\n"
   ]
  },
  {
   "cell_type": "markdown",
   "metadata": {},
   "source": [
    "<br>\n",
    "\n",
    "## Libraries"
   ]
  },
  {
   "cell_type": "code",
   "execution_count": 5,
   "metadata": {},
   "outputs": [],
   "source": [
    "%matplotlib inline"
   ]
  },
  {
   "cell_type": "code",
   "execution_count": 6,
   "metadata": {},
   "outputs": [],
   "source": [
    "import arviz as az\n",
    "import graphviz\n",
    "import dotmap\n",
    "import pymc3 as pm\n",
    "\n",
    "import logging\n",
    "\n",
    "import numpy as np\n",
    "import pandas as pd\n",
    "import scipy as sp\n",
    "\n",
    "import matplotlib\n",
    "import matplotlib.pyplot as plt\n",
    "import seaborn as sns\n",
    "\n",
    "import theano\n",
    "import collections"
   ]
  },
  {
   "cell_type": "markdown",
   "metadata": {},
   "source": [
    "<br>\n",
    "\n",
    "**Custom**"
   ]
  },
  {
   "cell_type": "code",
   "execution_count": 7,
   "metadata": {},
   "outputs": [],
   "source": [
    "import sars.graphics.settings\n",
    "import sars.graphics.relational"
   ]
  },
  {
   "cell_type": "code",
   "execution_count": 8,
   "metadata": {},
   "outputs": [],
   "source": [
    "import sars.capita.feed.data\n",
    "import sars.capita.feed.segmentation"
   ]
  },
  {
   "cell_type": "markdown",
   "metadata": {},
   "source": [
    "<br>\n",
    "\n",
    "## Set-up"
   ]
  },
  {
   "cell_type": "markdown",
   "metadata": {},
   "source": [
    "**Display**<br>\n",
    "If the display screen supports **retina display**, a figure's resolution can be enhanced via\n"
   ]
  },
  {
   "cell_type": "code",
   "execution_count": 9,
   "metadata": {},
   "outputs": [],
   "source": [
    "%config InlineBackend.figure_format = 'retina'"
   ]
  },
  {
   "cell_type": "markdown",
   "metadata": {},
   "source": [
    "<br>\n",
    "\n",
    "**Jupyter Settings**"
   ]
  },
  {
   "cell_type": "code",
   "execution_count": 10,
   "metadata": {},
   "outputs": [],
   "source": [
    "settings = sars.graphics.settings.Settings()\n",
    "\n",
    "settings.layout()\n",
    "settings.aesthetics()"
   ]
  },
  {
   "cell_type": "markdown",
   "metadata": {},
   "source": [
    "<br>\n",
    "\n",
    "**Relational Graph Labels**"
   ]
  },
  {
   "cell_type": "code",
   "execution_count": 11,
   "metadata": {},
   "outputs": [],
   "source": [
    "RelationalGraphLabels = collections.namedtuple(typename='RelationalGraphLabels',\n",
    "                                               field_names=['title', 'xlabel', 'ylabel'])"
   ]
  },
  {
   "cell_type": "markdown",
   "metadata": {},
   "source": [
    "<br>\n",
    "\n",
    "## Logging"
   ]
  },
  {
   "cell_type": "code",
   "execution_count": 12,
   "metadata": {},
   "outputs": [],
   "source": [
    "logging.basicConfig(level=logging.INFO)\n",
    "logger = logging.getLogger(__name__)"
   ]
  },
  {
   "cell_type": "markdown",
   "metadata": {},
   "source": [
    "<br>\n",
    "<br>\n",
    "\n",
    "# Data"
   ]
  },
  {
   "cell_type": "markdown",
   "metadata": {},
   "source": [
    "## Read"
   ]
  },
  {
   "cell_type": "code",
   "execution_count": 13,
   "metadata": {},
   "outputs": [
    {
     "name": "stderr",
     "output_type": "stream",
     "text": [
      "INFO:__main__:\n",
      "  datetimeobject STUSPS  deathRate  positiveRate  testRate  icuRate  \\\n",
      "0     2020-01-22     AK        0.0           0.0       0.0      0.0   \n",
      "1     2020-01-23     AK        0.0           0.0       0.0      0.0   \n",
      "2     2020-01-24     AK        0.0           0.0       0.0      0.0   \n",
      "3     2020-01-25     AK        0.0           0.0       0.0      0.0   \n",
      "4     2020-01-26     AK        0.0           0.0       0.0      0.0   \n",
      "\n",
      "   hospitalizedRate  ndays  \n",
      "0               0.0      0  \n",
      "1               0.0      1  \n",
      "2               0.0      2  \n",
      "3               0.0      3  \n",
      "4               0.0      4  \n",
      "\n"
     ]
    }
   ],
   "source": [
    "data = sars.capita.feed.data.Data().read()\n",
    "logger.info('\\n{}\\n'.format(data.head()))"
   ]
  },
  {
   "cell_type": "markdown",
   "metadata": {},
   "source": [
    "<br>\n",
    "<br>\n",
    "\n",
    "## In Focus"
   ]
  },
  {
   "cell_type": "code",
   "execution_count": 14,
   "metadata": {},
   "outputs": [],
   "source": [
    "stusps = 'ND'"
   ]
  },
  {
   "cell_type": "code",
   "execution_count": 36,
   "metadata": {},
   "outputs": [],
   "source": [
    "ahead = 25"
   ]
  },
  {
   "cell_type": "markdown",
   "metadata": {},
   "source": [
    "<br>\n",
    "\n",
    "**Hence**"
   ]
  },
  {
   "cell_type": "code",
   "execution_count": 15,
   "metadata": {},
   "outputs": [
    {
     "name": "stderr",
     "output_type": "stream",
     "text": [
      "INFO:__main__:The shape & type of features\n",
      "(260, 1), <class 'numpy.ndarray'>\n",
      "\n",
      "INFO:__main__:The shape & type of observations\n",
      "(260, 3), <class 'numpy.ndarray'>\n",
      "\n",
      "INFO:__main__:The frame\n",
      "(260, 4), <class 'pandas.core.frame.DataFrame'>\n",
      "\n"
     ]
    }
   ],
   "source": [
    "segmentation = sars.capita.feed.segmentation.Segmentation(data=data)\n",
    "\n",
    "features, observations, frame = segmentation.exc(\n",
    "    stusps=stusps, independent=['ndays'], dependent=['positiveRate', 'hospitalizedRate', 'deathRate'])\n",
    "\n",
    "logger.info('The shape & type of features\\n{}, {}\\n'.format(features.shape, type(features)))\n",
    "logger.info('The shape & type of observations\\n{}, {}\\n'.format(observations.shape, type(observations)))\n",
    "logger.info('The frame\\n{}, {}\\n'.format(frame.shape, type(frame)))"
   ]
  },
  {
   "cell_type": "markdown",
   "metadata": {},
   "source": [
    "<br>\n",
    "\n",
    "**And for forecasting**"
   ]
  },
  {
   "cell_type": "code",
   "execution_count": 16,
   "metadata": {},
   "outputs": [
    {
     "name": "stderr",
     "output_type": "stream",
     "text": [
      "INFO:__main__:The shape of futures\n",
      "(285, 1)\n",
      "\n"
     ]
    }
   ],
   "source": [
    "futures = segmentation.futures(features=features, steps=np.array([1]), ahead=ahead)\n",
    "\n",
    "logger.info('The shape of futures\\n{}\\n'.format(futures.shape))"
   ]
  },
  {
   "cell_type": "markdown",
   "metadata": {},
   "source": [
    "<br>\n",
    "\n",
    "**An illustration of the independent & dependent variables**"
   ]
  },
  {
   "cell_type": "code",
   "execution_count": 17,
   "metadata": {},
   "outputs": [],
   "source": [
    "import sars.capita.models.covariates.graphs"
   ]
  },
  {
   "cell_type": "code",
   "execution_count": 18,
   "metadata": {},
   "outputs": [],
   "source": [
    "graphs = sars.capita.models.covariates.graphs.Graphs()"
   ]
  },
  {
   "cell_type": "code",
   "execution_count": 19,
   "metadata": {},
   "outputs": [
    {
     "data": {
      "image/png": "[encoded data removed]",
      "text/plain": [
       "<Figure size 470x290 with 1 Axes>"
      ]
     },
     "metadata": {
      "image/png": {
       "height": 301,
       "width": 481
      }
     },
     "output_type": "display_data"
    }
   ],
   "source": [
    "ax = graphs.baseline(\n",
    "    data=frame, labels=RelationalGraphLabels._make(['\\ndata\\n', '\\ndays thus far', 'ln(observations\\n/100K)\\n'])\n",
    ")\n",
    "ax.legend(loc='upper left', fontsize='small');"
   ]
  },
  {
   "cell_type": "markdown",
   "metadata": {},
   "source": [
    "<br>\n",
    "<br>\n",
    "\n",
    "# Inference"
   ]
  },
  {
   "cell_type": "markdown",
   "metadata": {},
   "source": [
    "## Structures"
   ]
  },
  {
   "cell_type": "markdown",
   "metadata": {},
   "source": [
    "Preparing data structures for the inference model"
   ]
  },
  {
   "cell_type": "code",
   "execution_count": 20,
   "metadata": {},
   "outputs": [],
   "source": [
    "import sars.capita.models.covariates.structures"
   ]
  },
  {
   "cell_type": "code",
   "execution_count": 21,
   "metadata": {},
   "outputs": [],
   "source": [
    "structures = sars.capita.models.covariates.structures.Structures()"
   ]
  },
  {
   "cell_type": "markdown",
   "metadata": {},
   "source": [
    "<br>\n",
    "\n",
    "**Scaling Objects & Structures** of the:"
   ]
  },
  {
   "cell_type": "markdown",
   "metadata": {},
   "source": [
    "* Independent Variable/s"
   ]
  },
  {
   "cell_type": "code",
   "execution_count": 22,
   "metadata": {},
   "outputs": [
    {
     "name": "stderr",
     "output_type": "stream",
     "text": [
      "INFO:__main__:\n",
      "The shape & type of the scaled features: (260, 1), <class 'numpy.ndarray'>.\n",
      "\n"
     ]
    }
   ],
   "source": [
    "XSCALER, XSCALED = structures.exc(tensor=features)\n",
    "\n",
    "logger.info('\\nThe shape & type of the scaled features: {}, {}.\\n'.\n",
    "       format(XSCALED.shape, type(XSCALED)))\n"
   ]
  },
  {
   "cell_type": "markdown",
   "metadata": {},
   "source": [
    "<br>\n",
    "\n",
    "* Dependent Variable/s"
   ]
  },
  {
   "cell_type": "code",
   "execution_count": 23,
   "metadata": {},
   "outputs": [
    {
     "name": "stderr",
     "output_type": "stream",
     "text": [
      "INFO:__main__:\n",
      "The shape & type of the scaled observations: (260, 3), <class 'numpy.ndarray'>.\n",
      "\n"
     ]
    }
   ],
   "source": [
    "YSCALER, YSCALED = structures.exc(tensor=observations)\n",
    "\n",
    "logger.info('\\nThe shape & type of the scaled observations: {}, {}.\\n'.\n",
    "       format(YSCALED.shape, type(YSCALED)))\n"
   ]
  },
  {
   "cell_type": "markdown",
   "metadata": {},
   "source": [
    "<br>\n",
    "<br>\n",
    "\n",
    "## Model"
   ]
  },
  {
   "cell_type": "markdown",
   "metadata": {},
   "source": [
    "**Attributes**"
   ]
  },
  {
   "cell_type": "code",
   "execution_count": 24,
   "metadata": {},
   "outputs": [],
   "source": [
    "import sars.capita.models.covariates.attributes"
   ]
  },
  {
   "cell_type": "code",
   "execution_count": 25,
   "metadata": {},
   "outputs": [],
   "source": [
    "sections_ = XSCALED.shape[0]\n",
    "instances_ = np.ones(shape=XSCALED.shape[0], dtype=int)\n",
    "\n",
    "attributes = sars.capita.models.covariates.attributes.Attributes(\n",
    "    independent=XSCALED, dependent=YSCALED, sections_=sections_, instances_=instances_)"
   ]
  },
  {
   "cell_type": "markdown",
   "metadata": {},
   "source": [
    "<br>\n",
    "\n",
    "Hence"
   ]
  },
  {
   "cell_type": "code",
   "execution_count": 26,
   "metadata": {},
   "outputs": [
    {
     "name": "stderr",
     "output_type": "stream",
     "text": [
      "INFO:__main__:\n",
      "# of records: 260, # of independent variables: 1, # of dependent variables: 3\n",
      "\n",
      "INFO:__main__:\n",
      "# of sections: 260\n",
      "\n"
     ]
    }
   ],
   "source": [
    "measures = attributes.measures()\n",
    "sections = attributes.sections()\n",
    "\n",
    "logger.info('\\n# of records: {N}, # of independent variables: {M}, # of dependent variables: {P}\\n'.\\\n",
    "            format(N = measures.N, M = measures.M, P = measures.P))\n",
    "\n",
    "logger.info('\\n# of sections: {sections_}\\n'.format(sections_ = sections.sections_))"
   ]
  },
  {
   "cell_type": "markdown",
   "metadata": {},
   "source": [
    "<br>\n",
    "\n",
    "**Inference**"
   ]
  },
  {
   "cell_type": "code",
   "execution_count": 27,
   "metadata": {},
   "outputs": [],
   "source": [
    "import sars.capita.models.covariates.inference"
   ]
  },
  {
   "cell_type": "code",
   "execution_count": 28,
   "metadata": {},
   "outputs": [],
   "source": [
    "inference = sars.capita.models.covariates.inference.Inference(\n",
    "    independent=XSCALED, dependent=YSCALED, measures=measures, sections=sections)"
   ]
  },
  {
   "cell_type": "code",
   "execution_count": 29,
   "metadata": {},
   "outputs": [
    {
     "name": "stderr",
     "output_type": "stream",
     "text": [
      "Auto-assigning NUTS sampler...\n",
      "INFO:pymc3:Auto-assigning NUTS sampler...\n",
      "Initializing NUTS using jitter+adapt_diag...\n",
      "INFO:pymc3:Initializing NUTS using jitter+adapt_diag...\n",
      "Multiprocess sampling (2 chains in 2 jobs)\n",
      "INFO:pymc3:Multiprocess sampling (2 chains in 2 jobs)\n",
      "NUTS: [sigma, gradient, packed_l_m, intercept, packed_l_c]\n",
      "INFO:pymc3:NUTS: [sigma, gradient, packed_l_m, intercept, packed_l_c]\n"
     ]
    },
    {
     "data": {
      "text/html": [
       "\n",
       "    <div>\n",
       "        <style>\n",
       "            /* Turns off some styling */\n",
       "            progress {\n",
       "                /* gets rid of default border in Firefox and Opera. */\n",
       "                border: none;\n",
       "                /* Needs to be in here for Safari polyfill so background images work as expected. */\n",
       "                background-size: auto;\n",
       "            }\n",
       "            .progress-bar-interrupted, .progress-bar-interrupted::-webkit-progress-bar {\n",
       "                background: #F44336;\n",
       "            }\n",
       "        </style>\n",
       "      <progress value='8000' class='' max='8000' style='width:300px; height:20px; vertical-align: middle;'></progress>\n",
       "      100.00% [8000/8000 1:39:00<00:00 Sampling 2 chains, 2,215 divergences]\n",
       "    </div>\n",
       "    "
      ],
      "text/plain": [
       "<IPython.core.display.HTML object>"
      ]
     },
     "metadata": {},
     "output_type": "display_data"
    },
    {
     "name": "stderr",
     "output_type": "stream",
     "text": [
      "Sampling 2 chains for 2_000 tune and 2_000 draw iterations (4_000 + 4_000 draws total) took 5948 seconds.\n",
      "INFO:pymc3:Sampling 2 chains for 2_000 tune and 2_000 draw iterations (4_000 + 4_000 draws total) took 5948 seconds.\n",
      "There were 1062 divergences after tuning. Increase `target_accept` or reparameterize.\n",
      "ERROR:pymc3:There were 1062 divergences after tuning. Increase `target_accept` or reparameterize.\n",
      "The acceptance probability does not match the target. It is 0.7930852601542817, but should be close to 0.9. Try to increase the number of tuning steps.\n",
      "WARNING:pymc3:The acceptance probability does not match the target. It is 0.7930852601542817, but should be close to 0.9. Try to increase the number of tuning steps.\n",
      "There were 1153 divergences after tuning. Increase `target_accept` or reparameterize.\n",
      "ERROR:pymc3:There were 1153 divergences after tuning. Increase `target_accept` or reparameterize.\n",
      "The chain reached the maximum tree depth. Increase max_treedepth, increase target_accept or reparameterize.\n",
      "WARNING:pymc3:The chain reached the maximum tree depth. Increase max_treedepth, increase target_accept or reparameterize.\n",
      "The rhat statistic is larger than 1.4 for some parameters. The sampler did not converge.\n",
      "ERROR:pymc3:The rhat statistic is larger than 1.4 for some parameters. The sampler did not converge.\n",
      "The estimated number of effective samples is smaller than 200 for some parameters.\n",
      "ERROR:pymc3:The estimated number of effective samples is smaller than 200 for some parameters.\n"
     ]
    },
    {
     "data": {
      "text/html": [
       "\n",
       "    <div>\n",
       "        <style>\n",
       "            /* Turns off some styling */\n",
       "            progress {\n",
       "                /* gets rid of default border in Firefox and Opera. */\n",
       "                border: none;\n",
       "                /* Needs to be in here for Safari polyfill so background images work as expected. */\n",
       "                background-size: auto;\n",
       "            }\n",
       "            .progress-bar-interrupted, .progress-bar-interrupted::-webkit-progress-bar {\n",
       "                background: #F44336;\n",
       "            }\n",
       "        </style>\n",
       "      <progress value='5001' class='' max='5001' style='width:300px; height:20px; vertical-align: middle;'></progress>\n",
       "      100.00% [5001/5001 00:31<00:00 logp = 12,022, ||grad|| = 1.4292e+06]\n",
       "    </div>\n",
       "    "
      ],
      "text/plain": [
       "<IPython.core.display.HTML object>"
      ]
     },
     "metadata": {},
     "output_type": "display_data"
    },
    {
     "name": "stderr",
     "output_type": "stream",
     "text": [
      "\n",
      "INFO:pymc3:\n"
     ]
    },
    {
     "name": "stdout",
     "output_type": "stream",
     "text": [
      "\n"
     ]
    }
   ],
   "source": [
    "model, likelihood, trace, maximal, arviztrace = inference.exc()"
   ]
  },
  {
   "cell_type": "markdown",
   "metadata": {},
   "source": [
    "<br>\n",
    "\n",
    "**DAG**"
   ]
  },
  {
   "cell_type": "code",
   "execution_count": 32,
   "metadata": {},
   "outputs": [
    {
     "data": {
      "image/svg+xml": [
       "<?xml version=\"1.0\" encoding=\"UTF-8\" standalone=\"no\"?>\r\n",
       "<!DOCTYPE svg PUBLIC \"-//W3C//DTD SVG 1.1//EN\"\r\n",
       " \"http://www.w3.org/Graphics/SVG/1.1/DTD/svg11.dtd\">\r\n",
       "<!-- Generated by graphviz version 2.38.0 (20140413.2041)\r\n",
       " -->\r\n",
       "<!-- Title: %3 Pages: 1 -->\r\n",
       "<svg width=\"522pt\" height=\"760pt\"\r\n",
       " viewBox=\"0.00 0.00 522.00 760.41\" xmlns=\"http://www.w3.org/2000/svg\" xmlns:xlink=\"http://www.w3.org/1999/xlink\">\r\n",
       "<g id=\"graph0\" class=\"graph\" transform=\"scale(1 1) rotate(0) translate(4 756.413)\">\r\n",
       "<title>%3</title>\r\n",
       "<polygon fill=\"white\" stroke=\"none\" points=\"-4,4 -4,-756.413 518,-756.413 518,4 -4,4\"/>\r\n",
       "<g id=\"clust1\" class=\"cluster\"><title>cluster6</title>\r\n",
       "<path fill=\"none\" stroke=\"black\" d=\"M76,-530.051C76,-530.051 437,-530.051 437,-530.051 443,-530.051 449,-536.051 449,-542.051 449,-542.051 449,-732.413 449,-732.413 449,-738.413 443,-744.413 437,-744.413 437,-744.413 76,-744.413 76,-744.413 70,-744.413 64,-738.413 64,-732.413 64,-732.413 64,-542.051 64,-542.051 64,-536.051 70,-530.051 76,-530.051\"/>\r\n",
       "<text text-anchor=\"middle\" x=\"437.5\" y=\"-537.851\" font-family=\"Times New Roman,serif\" font-size=\"14.00\">6</text>\r\n",
       "</g>\r\n",
       "<g id=\"clust2\" class=\"cluster\"><title>cluster260 x 3</title>\r\n",
       "<path fill=\"none\" stroke=\"black\" d=\"M20,-8C20,-8 494,-8 494,-8 500,-8 506,-14 506,-20 506,-20 506,-510.051 506,-510.051 506,-516.051 500,-522.051 494,-522.051 494,-522.051 20,-522.051 20,-522.051 14,-522.051 8,-516.051 8,-510.051 8,-510.051 8,-20 8,-20 8,-14 14,-8 20,-8\"/>\r\n",
       "<text text-anchor=\"middle\" x=\"477\" y=\"-15.8\" font-family=\"Times New Roman,serif\" font-size=\"14.00\">260 x 3</text>\r\n",
       "</g>\r\n",
       "<!-- packed_l_m -->\r\n",
       "<g id=\"node1\" class=\"node\"><title>packed_l_m</title>\r\n",
       "<ellipse fill=\"none\" stroke=\"black\" cx=\"353\" cy=\"-648.732\" rx=\"87.8629\" ry=\"87.8629\"/>\r\n",
       "<text text-anchor=\"middle\" x=\"353\" y=\"-660.032\" font-family=\"Times New Roman,serif\" font-size=\"14.00\">packed_l_m</text>\r\n",
       "<text text-anchor=\"middle\" x=\"353\" y=\"-645.032\" font-family=\"Times New Roman,serif\" font-size=\"14.00\">~</text>\r\n",
       "<text text-anchor=\"middle\" x=\"353\" y=\"-630.032\" font-family=\"Times New Roman,serif\" font-size=\"14.00\">_LKJCholeskyCov</text>\r\n",
       "</g>\r\n",
       "<!-- gradient -->\r\n",
       "<g id=\"node4\" class=\"node\"><title>gradient</title>\r\n",
       "<ellipse fill=\"none\" stroke=\"black\" cx=\"382\" cy=\"-398.085\" rx=\"115.931\" ry=\"115.931\"/>\r\n",
       "<text text-anchor=\"middle\" x=\"382\" y=\"-409.385\" font-family=\"Times New Roman,serif\" font-size=\"14.00\">gradient</text>\r\n",
       "<text text-anchor=\"middle\" x=\"382\" y=\"-394.385\" font-family=\"Times New Roman,serif\" font-size=\"14.00\">~</text>\r\n",
       "<text text-anchor=\"middle\" x=\"382\" y=\"-379.385\" font-family=\"Times New Roman,serif\" font-size=\"14.00\">MvGaussianRandomWalk</text>\r\n",
       "</g>\r\n",
       "<!-- packed_l_m&#45;&gt;gradient -->\r\n",
       "<g id=\"edge2\" class=\"edge\"><title>packed_l_m&#45;&gt;gradient</title>\r\n",
       "<path fill=\"none\" stroke=\"black\" d=\"M363.061,-561.465C364.481,-549.291 365.964,-536.578 367.448,-523.858\"/>\r\n",
       "<polygon fill=\"black\" stroke=\"black\" points=\"370.954,-524.004 368.636,-513.666 364.001,-523.193 370.954,-524.004\"/>\r\n",
       "</g>\r\n",
       "<!-- packed_l_c -->\r\n",
       "<g id=\"node2\" class=\"node\"><title>packed_l_c</title>\r\n",
       "<ellipse fill=\"none\" stroke=\"black\" cx=\"160\" cy=\"-648.732\" rx=\"87.8629\" ry=\"87.8629\"/>\r\n",
       "<text text-anchor=\"middle\" x=\"160\" y=\"-660.032\" font-family=\"Times New Roman,serif\" font-size=\"14.00\">packed_l_c</text>\r\n",
       "<text text-anchor=\"middle\" x=\"160\" y=\"-645.032\" font-family=\"Times New Roman,serif\" font-size=\"14.00\">~</text>\r\n",
       "<text text-anchor=\"middle\" x=\"160\" y=\"-630.032\" font-family=\"Times New Roman,serif\" font-size=\"14.00\">_LKJCholeskyCov</text>\r\n",
       "</g>\r\n",
       "<!-- intercept -->\r\n",
       "<g id=\"node3\" class=\"node\"><title>intercept</title>\r\n",
       "<ellipse fill=\"none\" stroke=\"black\" cx=\"132\" cy=\"-398.085\" rx=\"115.931\" ry=\"115.931\"/>\r\n",
       "<text text-anchor=\"middle\" x=\"132\" y=\"-409.385\" font-family=\"Times New Roman,serif\" font-size=\"14.00\">intercept</text>\r\n",
       "<text text-anchor=\"middle\" x=\"132\" y=\"-394.385\" font-family=\"Times New Roman,serif\" font-size=\"14.00\">~</text>\r\n",
       "<text text-anchor=\"middle\" x=\"132\" y=\"-379.385\" font-family=\"Times New Roman,serif\" font-size=\"14.00\">MvGaussianRandomWalk</text>\r\n",
       "</g>\r\n",
       "<!-- packed_l_c&#45;&gt;intercept -->\r\n",
       "<g id=\"edge1\" class=\"edge\"><title>packed_l_c&#45;&gt;intercept</title>\r\n",
       "<path fill=\"none\" stroke=\"black\" d=\"M150.286,-561.465C148.915,-549.291 147.483,-536.578 146.051,-523.858\"/>\r\n",
       "<polygon fill=\"black\" stroke=\"black\" points=\"149.5,-523.211 144.903,-513.666 142.544,-523.995 149.5,-523.211\"/>\r\n",
       "</g>\r\n",
       "<!-- regression -->\r\n",
       "<g id=\"node7\" class=\"node\"><title>regression</title>\r\n",
       "<polygon fill=\"none\" stroke=\"black\" points=\"319.5,-228.072 230.5,-228.072 230.5,-175.072 319.5,-175.072 319.5,-228.072\"/>\r\n",
       "<text text-anchor=\"middle\" x=\"275\" y=\"-212.872\" font-family=\"Times New Roman,serif\" font-size=\"14.00\">regression</text>\r\n",
       "<text text-anchor=\"middle\" x=\"275\" y=\"-197.872\" font-family=\"Times New Roman,serif\" font-size=\"14.00\">~</text>\r\n",
       "<text text-anchor=\"middle\" x=\"275\" y=\"-182.872\" font-family=\"Times New Roman,serif\" font-size=\"14.00\">Deterministic</text>\r\n",
       "</g>\r\n",
       "<!-- intercept&#45;&gt;regression -->\r\n",
       "<g id=\"edge3\" class=\"edge\"><title>intercept&#45;&gt;regression</title>\r\n",
       "<path fill=\"none\" stroke=\"black\" d=\"M200.359,-304.101C218.168,-279.876 236.238,-255.297 250.137,-236.391\"/>\r\n",
       "<polygon fill=\"black\" stroke=\"black\" points=\"253.111,-238.256 256.214,-228.125 247.471,-234.109 253.111,-238.256\"/>\r\n",
       "</g>\r\n",
       "<!-- gradient&#45;&gt;regression -->\r\n",
       "<g id=\"edge4\" class=\"edge\"><title>gradient&#45;&gt;regression</title>\r\n",
       "<path fill=\"none\" stroke=\"black\" d=\"M326.463,-296.125C314.784,-274.895 303.235,-253.901 294.046,-237.196\"/>\r\n",
       "<polygon fill=\"black\" stroke=\"black\" points=\"297.085,-235.458 289.198,-228.383 290.952,-238.832 297.085,-235.458\"/>\r\n",
       "</g>\r\n",
       "<!-- sigma -->\r\n",
       "<g id=\"node5\" class=\"node\"><title>sigma</title>\r\n",
       "<ellipse fill=\"none\" stroke=\"black\" cx=\"168\" cy=\"-201.572\" rx=\"44.5955\" ry=\"44.5955\"/>\r\n",
       "<text text-anchor=\"middle\" x=\"168\" y=\"-212.872\" font-family=\"Times New Roman,serif\" font-size=\"14.00\">sigma</text>\r\n",
       "<text text-anchor=\"middle\" x=\"168\" y=\"-197.872\" font-family=\"Times New Roman,serif\" font-size=\"14.00\">~</text>\r\n",
       "<text text-anchor=\"middle\" x=\"168\" y=\"-182.872\" font-family=\"Times New Roman,serif\" font-size=\"14.00\">Uniform</text>\r\n",
       "</g>\r\n",
       "<!-- y -->\r\n",
       "<g id=\"node6\" class=\"node\"><title>y</title>\r\n",
       "<ellipse fill=\"lightgrey\" stroke=\"black\" cx=\"221\" cy=\"-80.0122\" rx=\"41.0244\" ry=\"41.0244\"/>\r\n",
       "<text text-anchor=\"middle\" x=\"221\" y=\"-91.3122\" font-family=\"Times New Roman,serif\" font-size=\"14.00\">y</text>\r\n",
       "<text text-anchor=\"middle\" x=\"221\" y=\"-76.3122\" font-family=\"Times New Roman,serif\" font-size=\"14.00\">~</text>\r\n",
       "<text text-anchor=\"middle\" x=\"221\" y=\"-61.3122\" font-family=\"Times New Roman,serif\" font-size=\"14.00\">Normal</text>\r\n",
       "</g>\r\n",
       "<!-- sigma&#45;&gt;y -->\r\n",
       "<g id=\"edge6\" class=\"edge\"><title>sigma&#45;&gt;y</title>\r\n",
       "<path fill=\"none\" stroke=\"black\" d=\"M185.796,-160.428C190.494,-149.829 195.603,-138.304 200.435,-127.405\"/>\r\n",
       "<polygon fill=\"black\" stroke=\"black\" points=\"203.739,-128.587 204.592,-118.027 197.339,-125.75 203.739,-128.587\"/>\r\n",
       "</g>\r\n",
       "<!-- regression&#45;&gt;y -->\r\n",
       "<g id=\"edge5\" class=\"edge\"><title>regression&#45;&gt;y</title>\r\n",
       "<path fill=\"none\" stroke=\"black\" d=\"M263.416,-174.924C257.146,-161.043 249.21,-143.47 241.902,-127.29\"/>\r\n",
       "<polygon fill=\"black\" stroke=\"black\" points=\"244.995,-125.636 237.689,-117.963 238.616,-128.517 244.995,-125.636\"/>\r\n",
       "</g>\r\n",
       "</g>\r\n",
       "</svg>\r\n"
      ],
      "text/plain": [
       "<graphviz.files.Source at 0xe440518>"
      ]
     },
     "execution_count": 32,
     "metadata": {},
     "output_type": "execute_result"
    }
   ],
   "source": [
    "# The DAG\n",
    "diagram = pm.model_graph.ModelGraph(model=model).make_graph()\n",
    "diagram.node_attr.update(shape='circle')\n",
    "\n",
    "# Diagrams\n",
    "diagram.save('model.gv')\n",
    "graphviz.render(engine='dot', format='pdf', filepath='model.gv')\n",
    "\n",
    "graphviz.Source.from_file(filename='model.gv')"
   ]
  },
  {
   "cell_type": "markdown",
   "metadata": {},
   "source": [
    "<br>\n",
    "<br>\n",
    "\n",
    "## Trace"
   ]
  },
  {
   "cell_type": "code",
   "execution_count": 30,
   "metadata": {},
   "outputs": [
    {
     "data": {
      "text/plain": [
       "['packed_l_c_cholesky-cov-packed__',\n",
       " 'intercept',\n",
       " 'packed_l_m_cholesky-cov-packed__',\n",
       " 'gradient',\n",
       " 'sigma_interval__',\n",
       " 'packed_l_c',\n",
       " 'packed_l_m',\n",
       " 'regression',\n",
       " 'sigma']"
      ]
     },
     "execution_count": 30,
     "metadata": {},
     "output_type": "execute_result"
    }
   ],
   "source": [
    "trace.varnames"
   ]
  },
  {
   "cell_type": "code",
   "execution_count": 35,
   "metadata": {},
   "outputs": [
    {
     "name": "stderr",
     "output_type": "stream",
     "text": [
      "INFO:__main__:The number of sampled instances\n",
      "4000\n",
      "\n"
     ]
    }
   ],
   "source": [
    "samplings = trace.report.n_draws * trace.nchains\n",
    "logger.info('The number of sampled instances\\n{}\\n'.format(samplings))"
   ]
  },
  {
   "cell_type": "markdown",
   "metadata": {},
   "source": [
    "<br>\n",
    "<br>\n",
    "\n",
    "## Estimates"
   ]
  },
  {
   "cell_type": "code",
   "execution_count": 37,
   "metadata": {},
   "outputs": [],
   "source": [
    "import sars.capita.models.covariates.estimates"
   ]
  },
  {
   "cell_type": "code",
   "execution_count": 39,
   "metadata": {},
   "outputs": [],
   "source": [
    "estimates = sars.capita.models.covariates.estimates.Estimates(trace=trace, ahead=ahead, samplings=samplings, measures=measures)"
   ]
  },
  {
   "cell_type": "markdown",
   "metadata": {},
   "source": [
    "<br>\n",
    "\n",
    "**Intercepts & Gradients**"
   ]
  },
  {
   "cell_type": "code",
   "execution_count": 41,
   "metadata": {},
   "outputs": [
    {
     "name": "stderr",
     "output_type": "stream",
     "text": [
      "INFO:__main__:\n",
      "(4000, 285, 3)\n",
      "\n",
      "INFO:__main__:\n",
      "(4000, 285, 3)\n",
      "\n"
     ]
    }
   ],
   "source": [
    "Parameter = collections.namedtuple(typename='Parameter', field_names=['name', 'cholesky'])\n",
    "\n",
    "intercepts_ = estimates.exc(parameter=Parameter._make(('intercept', 'packed_l_c')))\n",
    "gradients_ = estimates.exc(parameter=Parameter._make(('gradient', 'packed_l_m')))\n",
    "\n",
    "logger.info('\\n{}\\n'.format(intercepts_.shape))\n",
    "logger.info('\\n{}\\n'.format(gradients_.shape))"
   ]
  },
  {
   "cell_type": "markdown",
   "metadata": {},
   "source": [
    "<br>\n",
    "<br>\n",
    "\n",
    "## Predictions"
   ]
  },
  {
   "cell_type": "code",
   "execution_count": 42,
   "metadata": {},
   "outputs": [],
   "source": [
    "import sars.capita.models.covariates.predictions"
   ]
  },
  {
   "cell_type": "code",
   "execution_count": 43,
   "metadata": {},
   "outputs": [],
   "source": [
    "predictions = sars.capita.models.covariates.predictions.Predictions(\n",
    "    intercepts_=intercepts_, gradients_=gradients_, futures=futures, samplings=samplings, \n",
    "    xscaler=XSCALER, yscaler=YSCALER, measures=measures)"
   ]
  },
  {
   "cell_type": "code",
   "execution_count": 44,
   "metadata": {},
   "outputs": [
    {
     "name": "stderr",
     "output_type": "stream",
     "text": [
      "INFO:__main__:\n",
      "(285, 3)\n",
      "\n",
      "INFO:__main__:\n",
      "(100, 285, 3)\n",
      "\n"
     ]
    }
   ],
   "source": [
    "line = predictions.line()\n",
    "lines = predictions.lines(size=100)\n",
    "\n",
    "logger.info('\\n{}\\n'.format(line.shape))\n",
    "logger.info('\\n{}\\n'.format(lines.shape))"
   ]
  },
  {
   "cell_type": "markdown",
   "metadata": {},
   "source": [
    "<br>\n",
    "<br>\n",
    "\n",
    "# Illustrate"
   ]
  }
 ],
 "metadata": {
  "kernelspec": {
   "display_name": "Python 3",
   "language": "python",
   "name": "python3"
  },
  "language_info": {
   "codemirror_mode": {
    "name": "ipython",
    "version": 3
   },
   "file_extension": ".py",
   "mimetype": "text/x-python",
   "name": "python",
   "nbconvert_exporter": "python",
   "pygments_lexer": "ipython3",
   "version": "3.7.1"
  },
  "toc-autonumbering": false,
  "toc-showtags": false
 },
 "nbformat": 4,
 "nbformat_minor": 4
}
